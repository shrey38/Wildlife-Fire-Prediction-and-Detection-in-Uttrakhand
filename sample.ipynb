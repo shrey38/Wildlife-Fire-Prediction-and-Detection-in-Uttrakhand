{
 "cells": [
  {
   "cell_type": "code",
   "execution_count": null,
   "metadata": {},
   "outputs": [],
   "source": [
    "imvar = tf.keras.preprocessing.image.load_img(PATH).resize((176, 176))\n",
    "imarr = tf.keras.preprocessing.image.img_to_array(imvar)\n",
    "# imarr = np.array([imarr])\n",
    "model = tf.keras.models.load_model(\"model\")\n",
    "impred = model.predict(imarr)"
   ]
  }
 ],
 "metadata": {
  "language_info": {
   "name": "python"
  },
  "orig_nbformat": 4
 },
 "nbformat": 4,
 "nbformat_minor": 2
}
